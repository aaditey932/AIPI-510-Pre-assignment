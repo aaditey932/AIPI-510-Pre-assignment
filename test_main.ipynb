{
 "cells": [
  {
   "cell_type": "code",
   "execution_count": 4,
   "metadata": {},
   "outputs": [],
   "source": [
    "import unittest\n",
    "import main\n",
    "import pandas as pd"
   ]
  },
  {
   "cell_type": "code",
   "execution_count": 5,
   "metadata": {},
   "outputs": [
    {
     "name": "stdout",
     "output_type": "stream",
     "text": [
      "     Unnamed: 0       credit_card           city state  zipcode  \\\n",
      "0           107  8162218322673975          Akron    NY    14001   \n",
      "1           403  4441810945214262          Akron    NY    14001   \n",
      "2           220  3367848759678576          Akron    NY    14001   \n",
      "3           687  3954565279762367         Albany    VT     5820   \n",
      "4           930  3317657129455475         Albany    VT     5820   \n",
      "..          ...               ...            ...   ...      ...   \n",
      "979         276  9076783251687962     Washington    NH     3280   \n",
      "980         418  1284450389976622        Wichita    KS    67201   \n",
      "981         953  3658664738766077   Williamsburg    MA     1096   \n",
      "982         651  8553746017036332     Wilmington    MA     1887   \n",
      "983         790  5730606033377949  Young America    IN    46998   \n",
      "\n",
      "     credit_card_limit  \n",
      "0                20000  \n",
      "1                30000  \n",
      "2                 8000  \n",
      "3                15000  \n",
      "4                14000  \n",
      "..                 ...  \n",
      "979               6000  \n",
      "980               4000  \n",
      "981               6000  \n",
      "982               6000  \n",
      "983              16000  \n",
      "\n",
      "[984 rows x 6 columns]\n"
     ]
    }
   ],
   "source": [
    "df = pd.DataFrame(pd.read_csv('sorted_cc_info.csv'))\n",
    "print(df)"
   ]
  },
  {
   "cell_type": "code",
   "execution_count": 35,
   "metadata": {},
   "outputs": [],
   "source": [
    "class TestSortCSV:\n",
    "    def setup(self):\n",
    "        self.input_csv = 'cc_info.csv'\n",
    "        self.output_csv = 'sorted_cc_info.csv'\n",
    "\n",
    "    def sort_csv(self):\n",
    "        main.sortcsv(self.input_csv,self.output_csv)\n",
    "        sorted_csv = pd.read_csv(self.output_csv)\n",
    "        sorted_df = pd.DataFrame(sorted_csv)\n",
    "        number_of_rows = 984\n",
    "        number_of_rows_csv = sorted_csv.shape\n",
    "        self.assertEqual(number_of_rows,number_of_rows_csv)"
   ]
  }
 ],
 "metadata": {
  "kernelspec": {
   "display_name": ".venv",
   "language": "python",
   "name": "python3"
  },
  "language_info": {
   "codemirror_mode": {
    "name": "ipython",
    "version": 3
   },
   "file_extension": ".py",
   "mimetype": "text/x-python",
   "name": "python",
   "nbconvert_exporter": "python",
   "pygments_lexer": "ipython3",
   "version": "3.11.9"
  }
 },
 "nbformat": 4,
 "nbformat_minor": 2
}
